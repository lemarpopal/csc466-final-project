{
 "cells": [
  {
   "cell_type": "markdown",
   "metadata": {},
   "source": [
    "# Naive Machine Learning Models for WSB Stock Prediction\n",
    "\n",
    "I'll be trying to use decision tree and random forest regressors to predict the stock of Tesla (TSLA) stock. I anticipate that my results won't be as good as the LSTM model, but I wanted to see how the models we learned in class would compare to it. "
   ]
  },
  {
   "cell_type": "code",
   "execution_count": 1,
   "metadata": {},
   "outputs": [
    {
     "name": "stdout",
     "output_type": "stream",
     "text": [
      "Requirement already satisfied: yfinance in c:\\users\\adrie\\anaconda3\\lib\\site-packages (0.1.54)\n",
      "Requirement already satisfied: numpy>=1.15 in c:\\users\\adrie\\anaconda3\\lib\\site-packages (from yfinance) (1.18.1)\n",
      "Requirement already satisfied: pandas>=0.24 in c:\\users\\adrie\\anaconda3\\lib\\site-packages (from yfinance) (1.0.1)\n",
      "Requirement already satisfied: requests>=2.20 in c:\\users\\adrie\\anaconda3\\lib\\site-packages (from yfinance) (2.22.0)\n",
      "Requirement already satisfied: multitasking>=0.0.7 in c:\\users\\adrie\\anaconda3\\lib\\site-packages (from yfinance) (0.0.9)\n",
      "Requirement already satisfied: python-dateutil>=2.6.1 in c:\\users\\adrie\\anaconda3\\lib\\site-packages (from pandas>=0.24->yfinance) (2.8.1)\n",
      "Requirement already satisfied: pytz>=2017.2 in c:\\users\\adrie\\anaconda3\\lib\\site-packages (from pandas>=0.24->yfinance) (2019.3)\n",
      "Requirement already satisfied: urllib3!=1.25.0,!=1.25.1,<1.26,>=1.21.1 in c:\\users\\adrie\\anaconda3\\lib\\site-packages (from requests>=2.20->yfinance) (1.25.8)\n",
      "Requirement already satisfied: chardet<3.1.0,>=3.0.2 in c:\\users\\adrie\\anaconda3\\lib\\site-packages (from requests>=2.20->yfinance) (3.0.4)\n",
      "Requirement already satisfied: idna<2.9,>=2.5 in c:\\users\\adrie\\anaconda3\\lib\\site-packages (from requests>=2.20->yfinance) (2.8)\n",
      "Requirement already satisfied: certifi>=2017.4.17 in c:\\users\\adrie\\anaconda3\\lib\\site-packages (from requests>=2.20->yfinance) (2019.11.28)\n",
      "Requirement already satisfied: six>=1.5 in c:\\users\\adrie\\anaconda3\\lib\\site-packages (from python-dateutil>=2.6.1->pandas>=0.24->yfinance) (1.14.0)\n"
     ]
    }
   ],
   "source": [
    "!pip install yfinance"
   ]
  },
  {
   "cell_type": "code",
   "execution_count": 2,
   "metadata": {},
   "outputs": [],
   "source": [
    "import pandas as pd\n",
    "import numpy as np\n",
    "\n",
    "from sklearn.preprocessing import MinMaxScaler, StandardScaler\n",
    "from sklearn.pipeline import Pipeline, make_pipeline\n",
    "#from sklearn.preprocessing import FunctionTransformer\n",
    "from sklearn.compose import ColumnTransformer, make_column_transformer\n",
    "from sklearn.feature_extraction.text import TfidfVectorizer\n",
    "from sklearn.model_selection import cross_val_score\n",
    "from sklearn.model_selection import train_test_split\n",
    "\n",
    "from sklearn.tree import DecisionTreeRegressor\n",
    "from sklearn.ensemble import RandomForestRegressor\n",
    "\n",
    "import pickle\n",
    "from pprint import pprint\n",
    "\n",
    "import yfinance as yf\n",
    "\n",
    "import datetime\n",
    "import time"
   ]
  },
  {
   "cell_type": "code",
   "execution_count": 3,
   "metadata": {},
   "outputs": [],
   "source": [
    "def min_max_date(df):\n",
    "    \"\"\"\n",
    "    Get the min and max date of the ticker being mentioned in our WSB dataset\n",
    "    \"\"\"\n",
    "    min_date = df.sort_values('datetime').iloc[0][\"datetime\"].date()\n",
    "    max_date = df.sort_values('datetime', ascending= False).iloc[0][\"datetime\"].date()\n",
    "    return(min_date, max_date)\n",
    "\n",
    "def explode_action_column(df):\n",
    "    \"\"\"\n",
    "    Explodes columns of\n",
    "    dict(puts: [., ., .,]\n",
    "         calls: [., ., .,]\n",
    "         sell: [., ., .,]\n",
    "         buy: [., ., .,])\n",
    "         \n",
    "    into four columns ...\n",
    "    |puts|calls|sell|buy|\n",
    "    \"\"\"\n",
    "    return pd.concat([df.drop(['sentiment'], axis=1), df['sentiment'].apply(pd.Series)], axis=1)\n",
    "\n",
    "def date_from_datetime(df):\n",
    "    \"\"\"\n",
    "    Make datetime to date\n",
    "    \"\"\"\n",
    "    df_copy = df.copy()\n",
    "    df_copy[\"Date\"] = df_copy[\"datetime\"].dt.date\n",
    "    return df_copy\n",
    "\n",
    "def flatten_filter(df, ticker, filter = True):\n",
    "    \"\"\"\n",
    "    Explodes the column of lists of tickers into multiple rows and then filter for ticker\n",
    "    \"\"\"\n",
    "    df_copy = df.copy()\n",
    "    df_flatten = df_copy.explode('tickers')\n",
    "    if filter:\n",
    "        df_flatten = df_flatten[df_flatten['tickers'] == ticker]\n",
    "    else:\n",
    "        return df_flatten\n",
    "    return df_flatten\n",
    "\n",
    "def indicator_actions(df, ticker):\n",
    "    \"\"\"\n",
    "    Make indicator variables for ticker instead of list of tickers\n",
    "    \"\"\"\n",
    "    df_copy = df.copy()\n",
    "    df_copy = explode_action_column(df_copy)\n",
    "    df_copy[\"puts\"] = ((df_copy[\"puts\"].apply(len) != 0) & \n",
    "                      (df_copy[\"puts\"].astype('str').str.contains(ticker))).astype(int)\n",
    "    df_copy[\"calls\"] = ((df_copy[\"calls\"].apply(len) != 0) & \n",
    "                       (df_copy[\"calls\"].astype('str').str.contains(ticker))).astype(int)\n",
    "    df_copy[\"buy\"] = ((df_copy[\"buy\"].apply(len) != 0) & \n",
    "                     (df_copy[\"buy\"].astype('str').str.contains(ticker))).astype(int)\n",
    "    df_copy[\"sell\"] = ((df_copy[\"sell\"].apply(len) != 0) & \n",
    "                      (df_copy[\"sell\"].astype('str').str.contains(ticker))).astype(int)\n",
    "    return df_copy\n",
    "\n",
    "def plot_actions(df, ticker, min_date, max_date, hide_score = True):\n",
    "    \"\"\"\n",
    "    Plot the aggregate sum of sell, buy, calls ,puts for each day within range for a specific ticker\n",
    "    \"\"\"\n",
    "    df_copy = df.copy()\n",
    "    \n",
    "    # Aggregate financial action frequency per day\n",
    "    if hide_score:\n",
    "        agg_sell = df_copy[['Date','sell','buy','calls','puts']].groupby('Date').agg('sum')\n",
    "    else:\n",
    "        agg_sell = df_copy[['Date','sell','buy','calls','puts','score','ups']].groupby('Date').agg('sum')\n",
    "\n",
    "\n",
    "    # Filter for range specified\n",
    "    mask = (agg_sell.index > pd.to_datetime(\"2018-01-01\").date()) & (agg_sell.index <= max_date)\n",
    "\n",
    "    agg_sell.loc[mask].plot(figsize=(12, 10), linewidth=2.5)\n",
    "    plt.xlabel(\"Date\", labelpad=15)\n",
    "    plt.ylabel(\"Movement Mentions\", labelpad=15)\n",
    "    plt.title(\"Movement mentions for {0} from {1} to {2}\".format(ticker, str(min_date), str(max_date)), y=1.02, fontsize=22);\n",
    "\n",
    "def plot_stock_vs_wsb(df,ticker, min_date, max_date, stock_col, action_col):\n",
    "    \"\"\"\n",
    "    Plot the a specfic financial action mention in WSB comments vs historical data\n",
    "    \"\"\"\n",
    "    df_copy = df.copy()\n",
    "    \n",
    "    # Aggregate financial action frequency per day\n",
    "    agg_sell = df_copy[['Date','sell','buy','calls','puts','score','ups']].groupby('Date').agg('sum')\n",
    "    \n",
    "    \n",
    "    # Get the minimum date of that ticker mentioned on our WSB comment\n",
    "    MIN_DATE, MAX_DATE = min_max_date(df)\n",
    "\n",
    "    # Pull the data from yahoo finance api\n",
    "    stock_data = yf.download(ticker, start = MIN_DATE, end = MAX_DATE)\n",
    "    \n",
    "    # Filter for range specified\n",
    "    mask = (stock_data.index > np.datetime64(str(min_date))) & (stock_data.index <= np.datetime64(max_date))\n",
    "\n",
    "    plot_multi(stock_data.loc[mask].join(other = agg_sell)[[stock_col,action_col]], figsize=(10,5))\n",
    "\n",
    "    plt.xlabel(\"Date\", labelpad=15)\n",
    "    plt.ylabel(\"Daily {0} mentions\".format(action_col), labelpad=15)\n",
    "    plt.title(\"Daily {1} mentions vs {2} from {3} to {4} for {0}\".format(ticker, action_col, stock_col, str(min_date), str(max_date)), y=1.02, fontsize=22);"
   ]
  },
  {
   "cell_type": "code",
   "execution_count": 4,
   "metadata": {},
   "outputs": [],
   "source": [
    "data = pickle.load(open(\"wsb.pkl\", \"rb\"))"
   ]
  },
  {
   "cell_type": "code",
   "execution_count": 5,
   "metadata": {},
   "outputs": [],
   "source": [
    "tesla_df = date_from_datetime(flatten_filter(data, 'TSLA'))"
   ]
  },
  {
   "cell_type": "code",
   "execution_count": 6,
   "metadata": {},
   "outputs": [
    {
     "name": "stdout",
     "output_type": "stream",
     "text": [
      "[*********************100%***********************]  1 of 1 completed\n"
     ]
    }
   ],
   "source": [
    "ticker = \"TSLA\"\n",
    "\n",
    "# Get the minimum date of that ticker mentioned on our WSB comment\n",
    "MIN_DATE, MAX_DATE = min_max_date(tesla_df)\n",
    "\n",
    "# add 5 days to the max date because we will be aggregating da\n",
    "MAX_DATE += datetime.timedelta(days=5)\n",
    "\n",
    "# Pull the data from yahoo finance api\n",
    "stock_data = yf.download(ticker, start = MIN_DATE, end = MAX_DATE)"
   ]
  },
  {
   "cell_type": "code",
   "execution_count": 7,
   "metadata": {},
   "outputs": [
    {
     "data": {
      "text/html": [
       "<div>\n",
       "<style scoped>\n",
       "    .dataframe tbody tr th:only-of-type {\n",
       "        vertical-align: middle;\n",
       "    }\n",
       "\n",
       "    .dataframe tbody tr th {\n",
       "        vertical-align: top;\n",
       "    }\n",
       "\n",
       "    .dataframe thead th {\n",
       "        text-align: right;\n",
       "    }\n",
       "</style>\n",
       "<table border=\"1\" class=\"dataframe\">\n",
       "  <thead>\n",
       "    <tr style=\"text-align: right;\">\n",
       "      <th></th>\n",
       "      <th>Open</th>\n",
       "      <th>High</th>\n",
       "      <th>Low</th>\n",
       "      <th>Close</th>\n",
       "      <th>Adj Close</th>\n",
       "      <th>Volume</th>\n",
       "    </tr>\n",
       "    <tr>\n",
       "      <th>Date</th>\n",
       "      <th></th>\n",
       "      <th></th>\n",
       "      <th></th>\n",
       "      <th></th>\n",
       "      <th></th>\n",
       "      <th></th>\n",
       "    </tr>\n",
       "  </thead>\n",
       "  <tbody>\n",
       "    <tr>\n",
       "      <th>2013-04-09</th>\n",
       "      <td>41.799999</td>\n",
       "      <td>41.830002</td>\n",
       "      <td>40.330002</td>\n",
       "      <td>40.500000</td>\n",
       "      <td>40.500000</td>\n",
       "      <td>1696100</td>\n",
       "    </tr>\n",
       "    <tr>\n",
       "      <th>2013-04-10</th>\n",
       "      <td>40.700001</td>\n",
       "      <td>42.009998</td>\n",
       "      <td>40.610001</td>\n",
       "      <td>41.860001</td>\n",
       "      <td>41.860001</td>\n",
       "      <td>2121100</td>\n",
       "    </tr>\n",
       "    <tr>\n",
       "      <th>2013-04-11</th>\n",
       "      <td>42.060001</td>\n",
       "      <td>44.549999</td>\n",
       "      <td>41.750000</td>\n",
       "      <td>43.590000</td>\n",
       "      <td>43.590000</td>\n",
       "      <td>3447400</td>\n",
       "    </tr>\n",
       "    <tr>\n",
       "      <th>2013-04-12</th>\n",
       "      <td>43.250000</td>\n",
       "      <td>45.139999</td>\n",
       "      <td>43.049999</td>\n",
       "      <td>43.750000</td>\n",
       "      <td>43.750000</td>\n",
       "      <td>3149400</td>\n",
       "    </tr>\n",
       "    <tr>\n",
       "      <th>2013-04-15</th>\n",
       "      <td>43.500000</td>\n",
       "      <td>43.799999</td>\n",
       "      <td>42.509998</td>\n",
       "      <td>43.299999</td>\n",
       "      <td>43.299999</td>\n",
       "      <td>1681400</td>\n",
       "    </tr>\n",
       "  </tbody>\n",
       "</table>\n",
       "</div>"
      ],
      "text/plain": [
       "                 Open       High        Low      Close  Adj Close   Volume\n",
       "Date                                                                      \n",
       "2013-04-09  41.799999  41.830002  40.330002  40.500000  40.500000  1696100\n",
       "2013-04-10  40.700001  42.009998  40.610001  41.860001  41.860001  2121100\n",
       "2013-04-11  42.060001  44.549999  41.750000  43.590000  43.590000  3447400\n",
       "2013-04-12  43.250000  45.139999  43.049999  43.750000  43.750000  3149400\n",
       "2013-04-15  43.500000  43.799999  42.509998  43.299999  43.299999  1681400"
      ]
     },
     "execution_count": 7,
     "metadata": {},
     "output_type": "execute_result"
    }
   ],
   "source": [
    "stock_data.head()"
   ]
  },
  {
   "cell_type": "code",
   "execution_count": 8,
   "metadata": {},
   "outputs": [],
   "source": [
    "tesla_sent = indicator_actions(tesla_df, 'TSLA')\n",
    "tesla_sent[\"body\"] = tesla_sent[\"body\"].str.replace('\\\\n','')"
   ]
  },
  {
   "cell_type": "markdown",
   "metadata": {},
   "source": [
    "Diverges from here"
   ]
  },
  {
   "cell_type": "code",
   "execution_count": 9,
   "metadata": {},
   "outputs": [
    {
     "data": {
      "text/html": [
       "<div>\n",
       "<style scoped>\n",
       "    .dataframe tbody tr th:only-of-type {\n",
       "        vertical-align: middle;\n",
       "    }\n",
       "\n",
       "    .dataframe tbody tr th {\n",
       "        vertical-align: top;\n",
       "    }\n",
       "\n",
       "    .dataframe thead th {\n",
       "        text-align: right;\n",
       "    }\n",
       "</style>\n",
       "<table border=\"1\" class=\"dataframe\">\n",
       "  <thead>\n",
       "    <tr style=\"text-align: right;\">\n",
       "      <th></th>\n",
       "      <th>body</th>\n",
       "      <th>sell</th>\n",
       "      <th>buy</th>\n",
       "      <th>calls</th>\n",
       "      <th>puts</th>\n",
       "      <th>score</th>\n",
       "    </tr>\n",
       "    <tr>\n",
       "      <th>Date</th>\n",
       "      <th></th>\n",
       "      <th></th>\n",
       "      <th></th>\n",
       "      <th></th>\n",
       "      <th></th>\n",
       "      <th></th>\n",
       "    </tr>\n",
       "  </thead>\n",
       "  <tbody>\n",
       "    <tr>\n",
       "      <th>2014-08-07</th>\n",
       "      <td>TSLA is trading on news. Everytime some bad ne...</td>\n",
       "      <td>0</td>\n",
       "      <td>1</td>\n",
       "      <td>0</td>\n",
       "      <td>0</td>\n",
       "      <td>1</td>\n",
       "    </tr>\n",
       "    <tr>\n",
       "      <th>2014-04-26</th>\n",
       "      <td>Lots of big companies dipped today. Held onto ...</td>\n",
       "      <td>0</td>\n",
       "      <td>1</td>\n",
       "      <td>0</td>\n",
       "      <td>0</td>\n",
       "      <td>1</td>\n",
       "    </tr>\n",
       "    <tr>\n",
       "      <th>2014-05-08</th>\n",
       "      <td>Unless TSLA pulls a TRIP and rallies back to g...</td>\n",
       "      <td>0</td>\n",
       "      <td>1</td>\n",
       "      <td>0</td>\n",
       "      <td>0</td>\n",
       "      <td>1</td>\n",
       "    </tr>\n",
       "    <tr>\n",
       "      <th>2014-02-26</th>\n",
       "      <td>If you have TSLA stock your already making mon...</td>\n",
       "      <td>0</td>\n",
       "      <td>1</td>\n",
       "      <td>0</td>\n",
       "      <td>0</td>\n",
       "      <td>0</td>\n",
       "    </tr>\n",
       "    <tr>\n",
       "      <th>2014-05-08</th>\n",
       "      <td>&amp;gt; Trash of a stock.Hardly. They're doing a ...</td>\n",
       "      <td>0</td>\n",
       "      <td>1</td>\n",
       "      <td>0</td>\n",
       "      <td>0</td>\n",
       "      <td>2</td>\n",
       "    </tr>\n",
       "  </tbody>\n",
       "</table>\n",
       "</div>"
      ],
      "text/plain": [
       "                                                         body  sell  buy  \\\n",
       "Date                                                                       \n",
       "2014-08-07  TSLA is trading on news. Everytime some bad ne...     0    1   \n",
       "2014-04-26  Lots of big companies dipped today. Held onto ...     0    1   \n",
       "2014-05-08  Unless TSLA pulls a TRIP and rallies back to g...     0    1   \n",
       "2014-02-26  If you have TSLA stock your already making mon...     0    1   \n",
       "2014-05-08  &gt; Trash of a stock.Hardly. They're doing a ...     0    1   \n",
       "\n",
       "            calls  puts  score  \n",
       "Date                            \n",
       "2014-08-07      0     0      1  \n",
       "2014-04-26      0     0      1  \n",
       "2014-05-08      0     0      1  \n",
       "2014-02-26      0     0      0  \n",
       "2014-05-08      0     0      2  "
      ]
     },
     "execution_count": 9,
     "metadata": {},
     "output_type": "execute_result"
    }
   ],
   "source": [
    "tesla_df2 = tesla_sent[['body','Date','sell','buy','calls','puts','score']].set_index('Date')\n",
    "tesla_df2.head()"
   ]
  },
  {
   "cell_type": "code",
   "execution_count": 10,
   "metadata": {},
   "outputs": [],
   "source": [
    "for row in range(len(stock_data)):\n",
    "    # for each day, calculate the average mid price ((high + low) / 2) for the next 3 days \n",
    "    \n",
    "    stock_data.loc[stock_data.index[row], 'mid_price_next_3_days'] = \\\n",
    "    ((stock_data.iloc[row+1:row+4,1] + stock_data.iloc[row+1:row+4,2])/2).mean()\n",
    "    \n",
    "# the last date of stock prices will be NA because there is no next day mid price to average\n",
    "stock_data = stock_data.dropna()\n",
    "\n",
    "# we only want the mid price (to predict)\n",
    "stock_mid_data = stock_data[\"mid_price_next_3_days\"]"
   ]
  },
  {
   "cell_type": "code",
   "execution_count": 11,
   "metadata": {
    "scrolled": true
   },
   "outputs": [
    {
     "data": {
      "text/html": [
       "<div>\n",
       "<style scoped>\n",
       "    .dataframe tbody tr th:only-of-type {\n",
       "        vertical-align: middle;\n",
       "    }\n",
       "\n",
       "    .dataframe tbody tr th {\n",
       "        vertical-align: top;\n",
       "    }\n",
       "\n",
       "    .dataframe thead th {\n",
       "        text-align: right;\n",
       "    }\n",
       "</style>\n",
       "<table border=\"1\" class=\"dataframe\">\n",
       "  <thead>\n",
       "    <tr style=\"text-align: right;\">\n",
       "      <th></th>\n",
       "      <th>body</th>\n",
       "      <th>sell</th>\n",
       "      <th>buy</th>\n",
       "      <th>calls</th>\n",
       "      <th>puts</th>\n",
       "      <th>score</th>\n",
       "      <th>mid_price_next_3_days</th>\n",
       "    </tr>\n",
       "    <tr>\n",
       "      <th>Date</th>\n",
       "      <th></th>\n",
       "      <th></th>\n",
       "      <th></th>\n",
       "      <th></th>\n",
       "      <th></th>\n",
       "      <th></th>\n",
       "      <th></th>\n",
       "    </tr>\n",
       "  </thead>\n",
       "  <tbody>\n",
       "    <tr>\n",
       "      <th>2013-04-09</th>\n",
       "      <td>TSLA, SSYS, SCTY, OHI, RVBD</td>\n",
       "      <td>0</td>\n",
       "      <td>1</td>\n",
       "      <td>0</td>\n",
       "      <td>0</td>\n",
       "      <td>1</td>\n",
       "      <td>42.851666</td>\n",
       "    </tr>\n",
       "    <tr>\n",
       "      <th>2013-05-08</th>\n",
       "      <td>*Zing!*JROD teach me your ways. I am noob, the...</td>\n",
       "      <td>0</td>\n",
       "      <td>1</td>\n",
       "      <td>0</td>\n",
       "      <td>0</td>\n",
       "      <td>2</td>\n",
       "      <td>76.143333</td>\n",
       "    </tr>\n",
       "    <tr>\n",
       "      <th>2013-05-09</th>\n",
       "      <td>I like the move esp in the short run although ...</td>\n",
       "      <td>1</td>\n",
       "      <td>0</td>\n",
       "      <td>0</td>\n",
       "      <td>0</td>\n",
       "      <td>1</td>\n",
       "      <td>82.611668</td>\n",
       "    </tr>\n",
       "    <tr>\n",
       "      <th>2013-05-10</th>\n",
       "      <td>I actually did play a oom strangle on TSLA bef...</td>\n",
       "      <td>0</td>\n",
       "      <td>1</td>\n",
       "      <td>0</td>\n",
       "      <td>0</td>\n",
       "      <td>1</td>\n",
       "      <td>85.068334</td>\n",
       "    </tr>\n",
       "    <tr>\n",
       "      <th>2013-05-10</th>\n",
       "      <td>I'm very curious what you paid here. On my bid...</td>\n",
       "      <td>0</td>\n",
       "      <td>1</td>\n",
       "      <td>0</td>\n",
       "      <td>0</td>\n",
       "      <td>2</td>\n",
       "      <td>85.068334</td>\n",
       "    </tr>\n",
       "  </tbody>\n",
       "</table>\n",
       "</div>"
      ],
      "text/plain": [
       "                                                         body  sell  buy  \\\n",
       "Date                                                                       \n",
       "2013-04-09                        TSLA, SSYS, SCTY, OHI, RVBD     0    1   \n",
       "2013-05-08  *Zing!*JROD teach me your ways. I am noob, the...     0    1   \n",
       "2013-05-09  I like the move esp in the short run although ...     1    0   \n",
       "2013-05-10  I actually did play a oom strangle on TSLA bef...     0    1   \n",
       "2013-05-10  I'm very curious what you paid here. On my bid...     0    1   \n",
       "\n",
       "            calls  puts  score  mid_price_next_3_days  \n",
       "Date                                                   \n",
       "2013-04-09      0     0      1              42.851666  \n",
       "2013-05-08      0     0      2              76.143333  \n",
       "2013-05-09      0     0      1              82.611668  \n",
       "2013-05-10      0     0      1              85.068334  \n",
       "2013-05-10      0     0      2              85.068334  "
      ]
     },
     "execution_count": 11,
     "metadata": {},
     "output_type": "execute_result"
    }
   ],
   "source": [
    "# not every day of comments has an associated mid_price_next_3_days\n",
    "# so NaN will be replaced with the preceding mid price\n",
    "tesla_stock_df = tesla_df2.join(stock_mid_data).fillna(method='ffill')\n",
    "tesla_stock_df.head()"
   ]
  },
  {
   "cell_type": "code",
   "execution_count": 12,
   "metadata": {},
   "outputs": [
    {
     "name": "stdout",
     "output_type": "stream",
     "text": [
      "False    12079\n",
      "Name: body, dtype: int64\n",
      "False    12079\n",
      "Name: sell, dtype: int64\n",
      "False    12079\n",
      "Name: buy, dtype: int64\n",
      "False    12079\n",
      "Name: calls, dtype: int64\n",
      "False    12079\n",
      "Name: puts, dtype: int64\n",
      "False    12079\n",
      "Name: score, dtype: int64\n"
     ]
    }
   ],
   "source": [
    "for column in tesla_stock_df.drop([\"mid_price_next_3_days\"], axis=1).columns:\n",
    "    print(tesla_stock_df[column].isna().value_counts())"
   ]
  },
  {
   "cell_type": "markdown",
   "metadata": {},
   "source": [
    "# Decision Tree\n",
    "Decision trees were one of the first models we learned in KDD, lets see how it does for this data"
   ]
  },
  {
   "cell_type": "code",
   "execution_count": 13,
   "metadata": {},
   "outputs": [],
   "source": [
    "ct = make_column_transformer(\n",
    "    (TfidfVectorizer(), 'body'),\n",
    "    remainder='passthrough'\n",
    ")"
   ]
  },
  {
   "cell_type": "code",
   "execution_count": 14,
   "metadata": {},
   "outputs": [],
   "source": [
    "model = DecisionTreeRegressor(random_state=42)"
   ]
  },
  {
   "cell_type": "code",
   "execution_count": 15,
   "metadata": {},
   "outputs": [],
   "source": [
    "pipeline = make_pipeline(ct, StandardScaler(with_mean=False), model)"
   ]
  },
  {
   "cell_type": "code",
   "execution_count": 16,
   "metadata": {},
   "outputs": [],
   "source": [
    "scores = -cross_val_score(pipeline, tesla_stock_df.drop([\"mid_price_next_3_days\"], axis=1), tesla_stock_df[\"mid_price_next_3_days\"], \n",
    "                     cv=10, scoring=\"neg_mean_squared_error\")"
   ]
  },
  {
   "cell_type": "code",
   "execution_count": 17,
   "metadata": {},
   "outputs": [
    {
     "data": {
      "text/plain": [
       "66.39727589124422"
      ]
     },
     "execution_count": 17,
     "metadata": {},
     "output_type": "execute_result"
    }
   ],
   "source": [
    "# RMSE to predict the average price for the next 3 days is about 66 (not good)\n",
    "np.sqrt(np.mean(scores))"
   ]
  },
  {
   "cell_type": "markdown",
   "metadata": {},
   "source": [
    "### Conclusions\n",
    "\n",
    "Ouch. Not well apparently. RMSE of $66 is pretty terrible given how Tesla stock does not move this much"
   ]
  },
  {
   "cell_type": "markdown",
   "metadata": {},
   "source": [
    "# Random Forest\n",
    "Now, what if we use many weak decision tree learners? i.e. Random Forest"
   ]
  },
  {
   "cell_type": "code",
   "execution_count": 38,
   "metadata": {},
   "outputs": [],
   "source": [
    "rf_model = RandomForestRegressor(random_state=42, n_estimators=20, max_depth=10)"
   ]
  },
  {
   "cell_type": "code",
   "execution_count": 39,
   "metadata": {},
   "outputs": [],
   "source": [
    "pipeline = make_pipeline(ct, StandardScaler(with_mean=False), rf_model)"
   ]
  },
  {
   "cell_type": "code",
   "execution_count": 40,
   "metadata": {},
   "outputs": [
    {
     "name": "stdout",
     "output_type": "stream",
     "text": [
      "Time take to finish:  72.28455924987793 seconds.\n"
     ]
    }
   ],
   "source": [
    "# This takes a very long time to run\n",
    "start_time = time.time()\n",
    "scores = -cross_val_score(pipeline, tesla_stock_df.drop([\"mid_price_next_3_days\"], axis=1), tesla_stock_df[\"mid_price_next_3_days\"], \n",
    "                     cv=10, scoring=\"neg_mean_squared_error\")\n",
    "print(\"Time take to finish: \", time.time() - start_time, \"seconds.\")"
   ]
  },
  {
   "cell_type": "code",
   "execution_count": 41,
   "metadata": {},
   "outputs": [
    {
     "data": {
      "text/plain": [
       "50.39798349757181"
      ]
     },
     "execution_count": 41,
     "metadata": {},
     "output_type": "execute_result"
    }
   ],
   "source": [
    "np.sqrt(np.mean(scores))"
   ]
  },
  {
   "cell_type": "markdown",
   "metadata": {},
   "source": [
    "# XGBoost\n",
    "We will now use XGBoost (Extreme Gradient Boost) to see how it compares to other naive methods, out of the box (little to no tuning)"
   ]
  },
  {
   "cell_type": "code",
   "execution_count": 26,
   "metadata": {},
   "outputs": [
    {
     "name": "stdout",
     "output_type": "stream",
     "text": [
      "Requirement already satisfied: xgboost in c:\\users\\adrie\\anaconda3\\lib\\site-packages (1.0.2)\n",
      "Requirement already satisfied: scipy in c:\\users\\adrie\\anaconda3\\lib\\site-packages (from xgboost) (1.4.1)\n",
      "Requirement already satisfied: numpy in c:\\users\\adrie\\anaconda3\\lib\\site-packages (from xgboost) (1.18.1)\n"
     ]
    }
   ],
   "source": [
    "!pip install xgboost\n",
    "import xgboost as xgb"
   ]
  },
  {
   "cell_type": "code",
   "execution_count": 34,
   "metadata": {},
   "outputs": [],
   "source": [
    "xgb_model = xgb.XGBRegressor(random_state=42, n_estimators=20, max_depth=10)"
   ]
  },
  {
   "cell_type": "code",
   "execution_count": 35,
   "metadata": {},
   "outputs": [],
   "source": [
    "pipeline = make_pipeline(ct, StandardScaler(with_mean=False), xgb_model)"
   ]
  },
  {
   "cell_type": "code",
   "execution_count": 36,
   "metadata": {},
   "outputs": [],
   "source": [
    "scores = -cross_val_score(pipeline, tesla_stock_df.drop([\"mid_price_next_3_days\"], axis=1), tesla_stock_df[\"mid_price_next_3_days\"], \n",
    "                     cv=10, scoring=\"neg_mean_squared_error\")"
   ]
  },
  {
   "cell_type": "code",
   "execution_count": 37,
   "metadata": {},
   "outputs": [
    {
     "data": {
      "text/plain": [
       "50.78977170368405"
      ]
     },
     "execution_count": 37,
     "metadata": {},
     "output_type": "execute_result"
    }
   ],
   "source": [
    "# RMSE to predict the average price for the next 3 days is about 66 (not good)\n",
    "np.sqrt(np.mean(scores))"
   ]
  }
 ],
 "metadata": {
  "kernelspec": {
   "display_name": "Python 3",
   "language": "python",
   "name": "python3"
  },
  "language_info": {
   "codemirror_mode": {
    "name": "ipython",
    "version": 3
   },
   "file_extension": ".py",
   "mimetype": "text/x-python",
   "name": "python",
   "nbconvert_exporter": "python",
   "pygments_lexer": "ipython3",
   "version": "3.7.6"
  }
 },
 "nbformat": 4,
 "nbformat_minor": 4
}
